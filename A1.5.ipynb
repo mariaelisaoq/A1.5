{
 "cells": [
  {
   "cell_type": "markdown",
   "id": "5631a80b-5ddc-474c-9b97-6302462e6779",
   "metadata": {},
   "source": [
    "1. En este primer bloque de código se utilizó la librería Pandas para importar el archivo A1.5Calificaciones.csv. Además, con ayuda del atributo dtypes, se imprimieron los tipos de datos correspondientes a cada columna del DataFrame."
   ]
  },
  {
   "cell_type": "code",
   "execution_count": 1,
   "id": "7c0b9765-fa21-489f-b60f-b2709a6f4cb0",
   "metadata": {},
   "outputs": [
    {
     "name": "stdout",
     "output_type": "stream",
     "text": [
      "Tipos de datos de cada variable:\n",
      "Escuela           object\n",
      "Sexo              object\n",
      "Edad               int64\n",
      "HorasDeEstudio     int64\n",
      "Reprobadas         int64\n",
      "Internet          object\n",
      "Faltas             int64\n",
      "G1                 int64\n",
      "G2                 int64\n",
      "G3                 int64\n",
      "dtype: object\n"
     ]
    }
   ],
   "source": [
    "import pandas as pd\n",
    "df = pd.read_csv(\"A1.5Calificaciones.csv\")\n",
    "print(\"Tipos de datos de cada variable:\")\n",
    "print(df.dtypes)"
   ]
  },
  {
   "cell_type": "markdown",
   "id": "189c8301-032d-4449-9cfa-c13afd854db9",
   "metadata": {},
   "source": [
    "Ya con los tipos de cada variable se decidió que Escuela, Sexo e Internet son variables categóricas que necesitaban transformarse. De igual manera, según el contexto del problema, se definió la variable HorasDeEstudio como categórica al establecer rangos de horas de estudio.  \n",
    "En el siguiente bloque de código, con ayuda de la función value_counts(), se imprimen las diferentes categorías de cada una de estas variables:"
   ]
  },
  {
   "cell_type": "code",
   "execution_count": 2,
   "id": "778c45a5-8196-4b86-a22c-c3ff2c6e108f",
   "metadata": {},
   "outputs": [
    {
     "name": "stdout",
     "output_type": "stream",
     "text": [
      "Escuela\n",
      "GP    349\n",
      "MS     46\n",
      "Name: count, dtype: int64\n",
      "Sexo\n",
      "F    208\n",
      "M    187\n",
      "Name: count, dtype: int64\n",
      "HorasDeEstudio\n",
      "2    198\n",
      "1    105\n",
      "3     65\n",
      "4     27\n",
      "Name: count, dtype: int64\n",
      "Internet\n",
      "yes    329\n",
      "no      66\n",
      "Name: count, dtype: int64\n"
     ]
    }
   ],
   "source": [
    "print(df.Escuela.value_counts())\n",
    "print(df.Sexo.value_counts())\n",
    "print(df.HorasDeEstudio.value_counts())\n",
    "print(df.Internet.value_counts())"
   ]
  },
  {
   "cell_type": "markdown",
   "id": "9c802902-0b9e-4338-930a-d9b41168b8cb",
   "metadata": {},
   "source": [
    "2. En este bloque de código se trabajó con las variables categóricas identificadas previamente (Escuela, Sexo, HorasDeEstudio e Internet).  Para poder utilizarlas en futuros análisis y modelos, fue necesario transformarlas en variables numéricas. Primero, se creó una copia del DataFrame original (df_t) para conservar los datos iniciales sin modificaciones. Luego, con ayuda de un ciclo for, se aplicó la función get_dummies() a cada variable categórica, generando nuevas columnas binarias para cada categoría (utilizando el argumento drop_first=True). Las columnas originales se eliminaron y se añadieron las nuevas variables al DataFrame. Finalmente, se imprimieron las primeras cinco observaciones (head(5)) para verificar la transformación, así como los tipos de datos finales del DataFrame."
   ]
  },
  {
   "cell_type": "code",
   "execution_count": 3,
   "id": "14886056-ab9a-42b8-951c-55403462d7a5",
   "metadata": {},
   "outputs": [
    {
     "name": "stdout",
     "output_type": "stream",
     "text": [
      "Primeras 5 observaciones:\n",
      "   Edad  Reprobadas  Faltas  G1  G2  G3  Escuela_MS  Sexo_M  HorasDeEstudio_2  \\\n",
      "0    18           0       6   5   6   6       False   False              True   \n",
      "1    17           0       4   5   5   6       False   False              True   \n",
      "2    15           3      10   7   8  10       False   False              True   \n",
      "3    15           0       2  15  14  15       False   False             False   \n",
      "4    16           0       4   6  10  10       False   False              True   \n",
      "\n",
      "   HorasDeEstudio_3  HorasDeEstudio_4  Internet_yes  \n",
      "0             False             False         False  \n",
      "1             False             False          True  \n",
      "2             False             False          True  \n",
      "3              True             False          True  \n",
      "4             False             False         False  \n",
      "Tipos de datos finales:\n",
      "Edad                int64\n",
      "Reprobadas          int64\n",
      "Faltas              int64\n",
      "G1                  int64\n",
      "G2                  int64\n",
      "G3                  int64\n",
      "Escuela_MS           bool\n",
      "Sexo_M               bool\n",
      "HorasDeEstudio_2     bool\n",
      "HorasDeEstudio_3     bool\n",
      "HorasDeEstudio_4     bool\n",
      "Internet_yes         bool\n",
      "dtype: object\n"
     ]
    }
   ],
   "source": [
    "df_t = df.copy()\n",
    "var_categoricas = ['Escuela', 'Sexo','HorasDeEstudio','Internet']\n",
    "\n",
    "for var in var_categoricas:\n",
    "    dummies = pd.get_dummies(df_t[var], prefix=var, drop_first=True)\n",
    "    df_t = pd.concat([df_t, dummies], axis=1)\n",
    "    df_t = df_t.drop(var, axis=1)\n",
    "                 \n",
    "print(\"Primeras 5 observaciones:\")\n",
    "print(df_t.head(5))\n",
    "\n",
    "print(\"Tipos de datos finales:\")\n",
    "print(df_t.dtypes)"
   ]
  },
  {
   "cell_type": "markdown",
   "id": "5f491d34-df8f-4aae-b0c4-e9a6a947a009",
   "metadata": {},
   "source": [
    "3. En el siguiente bloque de código se realizó la detección de valores atípicos en la variable Faltas. Para ello, se utilizó el método de Tukey. Primero, se calcularon los cuartiles q1 (25%) y q3 (75%), así como el valor del IQR. Posteriormente, se definieron los límites inferior y superior (li y ls) utilizando un k=3.   Después, con ayuda de la función where() de la librería numpy, se identificaron los índices de las observaciones que se encuentran fuera de dichos límites. Finalmente, se imprimieron estas observaciones desde el DataFrame original para analizarlas.  "
   ]
  },
  {
   "cell_type": "code",
   "execution_count": 4,
   "id": "f8b507f3-7bad-42c3-a645-a4a171d09529",
   "metadata": {},
   "outputs": [
    {
     "name": "stdout",
     "output_type": "stream",
     "text": [
      "     Edad  Reprobadas  Faltas  G1  G2  G3  Escuela_MS  Sexo_M  \\\n",
      "74     16           0      54  11  12  11       False   False   \n",
      "183    17           0      56   9   9   8       False   False   \n",
      "276    18           0      75  10   9   9       False   False   \n",
      "307    19           1      38   8   9   8       False    True   \n",
      "315    19           1      40  13  11  11       False   False   \n",
      "\n",
      "     HorasDeEstudio_2  HorasDeEstudio_3  HorasDeEstudio_4  Internet_yes  \n",
      "74               True             False             False          True  \n",
      "183              True             False             False          True  \n",
      "276              True             False             False          True  \n",
      "307             False             False             False          True  \n",
      "315             False              True             False          True  \n"
     ]
    }
   ],
   "source": [
    "import numpy as np\n",
    "q1=df_t.Faltas.quantile(0.25)\n",
    "q3=df_t.Faltas.quantile(0.75)\n",
    "iqr=q3-q1\n",
    "li=q1-(3*iqr)\n",
    "ls=q3+(3*iqr)\n",
    "out=np.where((df_t.Faltas<=li) | (df_t.Faltas>=ls))[0]\n",
    "print(df_t.iloc[out,:])"
   ]
  },
  {
   "cell_type": "markdown",
   "id": "4a282ec0-cba9-476b-b8fd-76efa30a23ae",
   "metadata": {},
   "source": [
    "Haciendo un análisis de los datos atípicos en la variable Faltas, se observa que la cantidad de faltas registrada es excesiva para un solo curso. Por ello, se decidió eliminar estos datos, considerando además que representan solo 5 registros de un total de 395, por lo que su eliminación no afectaría de manera significativa el volumen de la muestra. En el siguiente bloque de código se realiza la eliminación de dichos datos y se comprueba el tamaño del DataFrame."
   ]
  },
  {
   "cell_type": "code",
   "execution_count": 5,
   "id": "b859da02-9652-4667-a41c-dbacf61a6358",
   "metadata": {},
   "outputs": [
    {
     "name": "stdout",
     "output_type": "stream",
     "text": [
      "Tamaño del nuevo DataFrame:  (390, 12)\n"
     ]
    }
   ],
   "source": [
    "dt_t = df_t.drop(out, axis=0)\n",
    "print(\"Tamaño del nuevo DataFrame: \",dt_t.shape)"
   ]
  },
  {
   "cell_type": "markdown",
   "id": "02bcb807-37a2-4029-ac13-b025c0ef200c",
   "metadata": {},
   "source": [
    "4. En este bloque de código, primero se convirtieron las variables a tipo float para poder utilizar la función corrcoef de la librería numpy. Luego, se calculó la matriz de correlación y se tomó el valor absoluto de cada elemento (La diagonal de la matriz se llenó con ceros). A continuación, con la función unravel_index se identificaron los índices de las variables que presentan la colinealidad más fuerte. Finalmente, se imprimieron estos índices y nombres, el valor de correlación absoluta correspondiente y se generó un heatmap para visualizar de manera intuitiva las relaciones entre todas las variables."
   ]
  },
  {
   "cell_type": "code",
   "execution_count": 6,
   "id": "1c5f26fa-3cd7-41c4-b139-e0a2631e086b",
   "metadata": {},
   "outputs": [
    {
     "name": "stdout",
     "output_type": "stream",
     "text": [
      "Variables con mayor correlación (índices):  4 5\n",
      "Variables con mayor correlación (nombre):  G2 G3\n",
      "Valor de correlación absoluta:  0.904867989269301\n"
     ]
    },
    {
     "data": {
      "text/plain": [
       "<Axes: >"
      ]
     },
     "execution_count": 6,
     "metadata": {},
     "output_type": "execute_result"
    },
    {
     "data": {
      "image/png": "[encoded data removed]",
      "text/plain": [
       "<Figure size 640x480 with 2 Axes>"
      ]
     },
     "metadata": {},
     "output_type": "display_data"
    }
   ],
   "source": [
    "df_t = df_t.astype(float)\n",
    "cor=abs(np.corrcoef(df_t,rowvar=False))\n",
    "np.fill_diagonal(cor,0)\n",
    "i,j=np.unravel_index(cor.argmax(),cor.shape)\n",
    "print(\"Variables con mayor correlación (índices): \",i,j)\n",
    "print(\"Variables con mayor correlación (nombre): \", df_t.columns[i], df_t.columns[j])\n",
    "print(\"Valor de correlación absoluta: \",cor[i,j])\n",
    "from seaborn import heatmap\n",
    "heatmap(cor)"
   ]
  },
  {
   "cell_type": "markdown",
   "id": "479359a4-90b8-49ce-9885-9b6360f6ddbe",
   "metadata": {},
   "source": [
    "Como se pudo analizar en el código anterior, las variables que muestran una alta correlación corresponden a una variable de entrada (G2) y la variable de salida (G3). Si bien se identifica una correlación significativa entre ellas, esta relación es deseable y beneficiosa para el modelo predictivo, ya que indica que la calificación inicial (G2) tiene un fuerte poder predictivo sobre la calificación final (G3). Con esto en mente no se elimina ninguna variable del DataFrame."
   ]
  },
  {
   "cell_type": "markdown",
   "id": "d657ff0c-2ff4-451b-a29f-5d6ed2cce88e",
   "metadata": {},
   "source": [
    "5. En el siguiente bloque de código se crearon términos de interacción entre algunas variables del DataFrame.  Primero, se creó una copia del DataFrame original df_t_i para mantener los datos transformados sin modificaciones. Luego, se agregaron dos nuevas columnas: Edad:HorasDeEstudio (producto de las variables Edad y HorasDeEstudio_2)  y Reprobadas:Internet(producto de las variables Reprobadas e Internet_yes). Finalmente, se imprimieron las primeras cinco observaciones del DataFrame modificado. \n"
   ]
  },
  {
   "cell_type": "code",
   "execution_count": 7,
   "id": "50d14a9c-aadf-4d91-8871-86a6db8e6aa9",
   "metadata": {},
   "outputs": [
    {
     "name": "stdout",
     "output_type": "stream",
     "text": [
      "DataFrame con términos de interacción:\n",
      "   Edad  Reprobadas  Faltas    G1    G2    G3  Escuela_MS  Sexo_M  \\\n",
      "0  18.0         0.0     6.0   5.0   6.0   6.0         0.0     0.0   \n",
      "1  17.0         0.0     4.0   5.0   5.0   6.0         0.0     0.0   \n",
      "2  15.0         3.0    10.0   7.0   8.0  10.0         0.0     0.0   \n",
      "3  15.0         0.0     2.0  15.0  14.0  15.0         0.0     0.0   \n",
      "4  16.0         0.0     4.0   6.0  10.0  10.0         0.0     0.0   \n",
      "\n",
      "   HorasDeEstudio_2  HorasDeEstudio_3  HorasDeEstudio_4  Internet_yes  \\\n",
      "0               1.0               0.0               0.0           0.0   \n",
      "1               1.0               0.0               0.0           1.0   \n",
      "2               1.0               0.0               0.0           1.0   \n",
      "3               0.0               1.0               0.0           1.0   \n",
      "4               1.0               0.0               0.0           0.0   \n",
      "\n",
      "   Edad:HorasDeEstudio  Reprobadas:Internet  \n",
      "0                 18.0                  0.0  \n",
      "1                 17.0                  0.0  \n",
      "2                 15.0                  3.0  \n",
      "3                  0.0                  0.0  \n",
      "4                 16.0                  0.0  \n"
     ]
    }
   ],
   "source": [
    "df_t_i = df_t.copy()\n",
    "num_columns = len(df_t_i.columns)\n",
    "\n",
    "df_t_i.insert(num_columns, \"Edad:HorasDeEstudio\", df_t_i.Edad * df_t_i.HorasDeEstudio_2)\n",
    "df_t_i.insert(num_columns + 1, \"Reprobadas:Internet\", df_t_i.Reprobadas * df_t_i.Internet_yes)\n",
    "\n",
    "print(\"DataFrame con términos de interacción:\")\n",
    "print(df_t_i.head(5))"
   ]
  },
  {
   "cell_type": "markdown",
   "id": "1ad882d0-3f83-4f2f-ab4b-487d8b9fe8d8",
   "metadata": {},
   "source": [
    "6. En este bloque se construyó un modelo de regresión lineal múltiple para predecir la calificación final (G3) usando las demás variables. Primero, se dividieron los datos en entrenamiento (80%) y prueba (20%) para poder ajustar el modelo y evaluarlo. Luego, se creó y ajustó un modelo de regresión lineal ordinaria (OLS) con los datos de entrenamiento. Después, se utilizaron los datos de prueba para predecir las calificaciones y se compararon con los valores reales mediante un gráfico de dispersión, donde se puede observar qué tan cercanas están las predicciones a los resultados reales."
   ]
  },
  {
   "cell_type": "code",
   "execution_count": 8,
   "id": "8b305ca1-3a2d-4c22-b164-e76adefd8c9f",
   "metadata": {},
   "outputs": [
    {
     "name": "stdout",
     "output_type": "stream",
     "text": [
      "                            OLS Regression Results                            \n",
      "==============================================================================\n",
      "Dep. Variable:                     G3   R-squared:                       0.855\n",
      "Model:                            OLS   Adj. R-squared:                  0.849\n",
      "Method:                 Least Squares   F-statistic:                     137.0\n",
      "Date:                Thu, 28 Aug 2025   Prob (F-statistic):          3.75e-118\n",
      "Time:                        08:12:14   Log-Likelihood:                -612.08\n",
      "No. Observations:                 316   AIC:                             1252.\n",
      "Df Residuals:                     302   BIC:                             1305.\n",
      "Df Model:                          13                                         \n",
      "Covariance Type:            nonrobust                                         \n",
      "=======================================================================================\n",
      "                          coef    std err          t      P>|t|      [0.025      0.975]\n",
      "---------------------------------------------------------------------------------------\n",
      "const                   0.3093      1.834      0.169      0.866      -3.299       3.918\n",
      "Edad                   -0.0684      0.109     -0.626      0.532      -0.283       0.146\n",
      "Reprobadas             -0.1072      0.278     -0.385      0.700      -0.655       0.440\n",
      "Faltas                  0.0334      0.014      2.428      0.016       0.006       0.061\n",
      "G1                      0.0967      0.056      1.712      0.088      -0.014       0.208\n",
      "G2                      0.9798      0.050     19.658      0.000       0.882       1.078\n",
      "Escuela_MS             -0.0477      0.333     -0.143      0.886      -0.704       0.608\n",
      "Sexo_M                  0.0247      0.214      0.115      0.908      -0.396       0.445\n",
      "HorasDeEstudio_2        0.5350      2.556      0.209      0.834      -4.496       5.566\n",
      "HorasDeEstudio_3       -0.1038      0.331     -0.314      0.754      -0.754       0.547\n",
      "HorasDeEstudio_4       -0.6302      0.414     -1.522      0.129      -1.445       0.185\n",
      "Internet_yes           -0.0796      0.299     -0.266      0.790      -0.669       0.509\n",
      "Edad:HorasDeEstudio    -0.0496      0.153     -0.325      0.745      -0.350       0.251\n",
      "Reprobadas:Internet    -0.2544      0.309     -0.824      0.410      -0.862       0.353\n",
      "==============================================================================\n",
      "Omnibus:                      195.409   Durbin-Watson:                   2.036\n",
      "Prob(Omnibus):                  0.000   Jarque-Bera (JB):             1550.280\n",
      "Skew:                          -2.522   Prob(JB):                         0.00\n",
      "Kurtosis:                      12.607   Cond. No.                         738.\n",
      "==============================================================================\n",
      "\n",
      "Notes:\n",
      "[1] Standard Errors assume that the covariance matrix of the errors is correctly specified.\n"
     ]
    },
    {
     "data": {
      "image/png": "[encoded data removed]",
      "text/plain": [
       "<Figure size 640x480 with 1 Axes>"
      ]
     },
     "metadata": {},
     "output_type": "display_data"
    }
   ],
   "source": [
    "from sklearn.model_selection import train_test_split\n",
    "import statsmodels.api as sm\n",
    "import matplotlib.pyplot as plt\n",
    "X_train, X_test, Y_train, Y_test = train_test_split(df_t_i.drop(\"G3\", axis=1), df_t_i.G3, train_size=0.8)\n",
    "model = sm.OLS(Y_train, sm.add_constant(X_train))\n",
    "results = model.fit()\n",
    "print(results.summary())\n",
    "yHat = results.predict(sm.add_constant(X_test))\n",
    "plt.scatter(Y_test, yHat, alpha=0.7)\n",
    "plt.xlabel('Calificación Final Real (G3)')\n",
    "plt.ylabel('Calificación Final Estimada (G3)')\n",
    "plt.title('G3 Real vs G3 Estimada')\n",
    "plt.grid(True, alpha=0.3)"
   ]
  },
  {
   "cell_type": "markdown",
   "id": "7e1682a9-9416-455a-bcaa-6c6dbf12eb0d",
   "metadata": {},
   "source": [
    "Tomando en cuenta los resultados gráficos, se observa que los puntos entre los valores reales y estimados de G3 siguen una tendencia cercana a una recta diagonal, lo que indica que el modelo tiene capacidad predictiva para estimar las calificaciones finales en función de las variables incluidas en el dataframe df_t_i. Sin embargo, también se identifican ciertas desviaciones al inicio de la gráfica (valores bajos de G3), donde el modelo presenta mayores errores de predicción.\n",
    "\n",
    "Analizando los resultados del modelo (resumen), se observa un R^1 de 0.822, lo cual indica un buen ajuste al modelo. Sin embargo, al examinar los p-values de los coeficientes, se identifica que la mayoría de las variables incluidas no son  significativas (mayores a 0.05). Las únicas variables que tiene un p-value menor a 0.05 (muestran significancia) son Faltas, G1, G2 y Sexo_M por lo que el modelo podría simplificarse con estas variables."
   ]
  }
 ],
 "metadata": {
  "kernelspec": {
   "display_name": "Python 3 (ipykernel)",
   "language": "python",
   "name": "python3"
  },
  "language_info": {
   "codemirror_mode": {
    "name": "ipython",
    "version": 3
   },
   "file_extension": ".py",
   "mimetype": "text/x-python",
   "name": "python",
   "nbconvert_exporter": "python",
   "pygments_lexer": "ipython3",
   "version": "3.13.5"
  }
 },
 "nbformat": 4,
 "nbformat_minor": 5
}
